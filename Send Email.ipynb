{
 "cells": [
  {
   "cell_type": "code",
   "execution_count": 88,
   "metadata": {},
   "outputs": [],
   "source": [
    "import os\n",
    "import smtplib\n",
    "import imghdr\n",
    "from email.message import EmailMessage\n",
    "import pandas as pd"
   ]
  },
  {
   "cell_type": "code",
   "execution_count": 89,
   "metadata": {},
   "outputs": [],
   "source": [
    "os.chdir('C:\\\\Users\\\\Pc\\\\Desktop\\\\itgcert1')"
   ]
  },
  {
   "cell_type": "code",
   "execution_count": 90,
   "metadata": {},
   "outputs": [],
   "source": [
    "EMAIL_ADDRESS = os.environ.get('EMAIL_USER')\n",
    "EMAIL_PASSWORD = os.environ.get('EMAIL_PASSWORD')"
   ]
  },
  {
   "cell_type": "code",
   "execution_count": 91,
   "metadata": {},
   "outputs": [],
   "source": [
    "df = pd.read_excel(\"../final file12.xlsx\")"
   ]
  },
  {
   "cell_type": "code",
   "execution_count": 92,
   "metadata": {},
   "outputs": [],
   "source": [
    "# msg.set_content('This is a plain text email')\n",
    "def sendEmail(toemail,fname,lname,pdfname):\n",
    "    msg = EmailMessage()\n",
    "    msg['Subject'] = 'ITGenetic - Certification of Internship: Digital Marketing'\n",
    "    msg['From'] = EMAIL_ADDRESS\n",
    "    msg['To'] = toemail\n",
    "    with open('../email_temp2.html', 'rb') as f:\n",
    "        file_data = f.read()\n",
    "        file_type = imghdr.what(f.name)\n",
    "        file_name = f.name\n",
    "    #print(file_data)\n",
    "    file_string = file_data.decode(encoding='UTF-8')\n",
    "    file_string = file_string.replace('first_name', fname)\n",
    "    file_string = file_string.replace('last_name', lname)\n",
    "    # print(\"\\n\\n ::: The file decoded into a string ::: \\n\\n\", file_string)\n",
    "    msg.add_alternative(file_string, subtype='html')\n",
    "    with open(pdfname, 'rb') as af:\n",
    "        afile_data = af.read()\n",
    "        afile_name = af.name\n",
    "    msg.add_attachment(afile_data, maintype='application', subtype='octet-stream',filename = afile_name)\n",
    "    with smtplib.SMTP_SSL('smtp.gmail.com', 465) as smtp:\n",
    "        smtp.login(EMAIL_ADDRESS, EMAIL_PASSWORD)\n",
    "        smtp.send_message(msg)\n",
    "    print(\"Email Sent\")"
   ]
  },
  {
   "cell_type": "code",
   "execution_count": 93,
   "metadata": {},
   "outputs": [],
   "source": [
    "# for item, value in os.environ.items():\n",
    "#     print('{}: {}'.format(item, value))"
   ]
  },
  {
   "cell_type": "code",
   "execution_count": 94,
   "metadata": {},
   "outputs": [
    {
     "name": "stdout",
     "output_type": "stream",
     "text": [
      "Email Sent\n",
      "Email Sent\n",
      "Email Sent\n"
     ]
    }
   ],
   "source": [
    "for i in range(len(df)):\n",
    "    sendEmail(df['Email address'].iloc[i],df['First Name'].iloc[i],df['Last Name'].iloc[i],df['filename'].iloc[i])"
   ]
  },
  {
   "cell_type": "code",
   "execution_count": null,
   "metadata": {},
   "outputs": [],
   "source": []
  }
 ],
 "metadata": {
  "kernelspec": {
   "display_name": "Python 3",
   "language": "python",
   "name": "python3"
  },
  "language_info": {
   "codemirror_mode": {
    "name": "ipython",
    "version": 3
   },
   "file_extension": ".py",
   "mimetype": "text/x-python",
   "name": "python",
   "nbconvert_exporter": "python",
   "pygments_lexer": "ipython3",
   "version": "3.7.6"
  }
 },
 "nbformat": 4,
 "nbformat_minor": 4
}
